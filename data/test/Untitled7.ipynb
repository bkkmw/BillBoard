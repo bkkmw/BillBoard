{
 "cells": [
  {
   "cell_type": "code",
   "execution_count": 2,
   "id": "28850480",
   "metadata": {
    "scrolled": false
   },
   "outputs": [],
   "source": [
    "from typing import List, Union\n",
    "from fastapi import FastAPI, HTTPException\n",
    "from fastapi.middleware.cors import CORSMiddleware\n",
    "from fastapi.encoders import jsonable_encoder\n",
    "from fastapi.responses import JSONResponse\n",
    "import pymysql\n",
    "from pydantic import BaseModel\n",
    "from starlette.middleware.cors import CORSMiddleware\n",
    "import certifi\n",
    "import pandas as pd\n",
    "from surprise import Reader, Dataset, SVD\n",
    "from surprise.dataset import DatasetAutoFolds\n",
    "from SVD_last import recomm_combi, recomm_game_by_surprise, recomm_game_by_surprise_sortbyiid, get_unplayed_surprise"
   ]
  },
  {
   "cell_type": "code",
   "execution_count": 3,
   "id": "3cd6966d",
   "metadata": {},
   "outputs": [],
   "source": [
    "reader = Reader(line_format = 'user item rating', sep=',', rating_scale=(0.5,10))\n",
    "data_folds = DatasetAutoFolds(ratings_file='./ratings949.csv', reader=reader)\n",
    "trainset = data_folds.build_full_trainset()\n",
    "ratings = pd.read_csv(\"./bgg-19m-reviews.csv\", encoding='UTF-8')\n",
    "data = Dataset.load_from_df(ratings[[\"user\", \"ID\", \"rating\"]], reader)\n",
    "train_set = data.build_full_trainset()\n",
    "test_set = train_set.build_testset()\n",
    "algo = SVD(n_factors=50, n_epochs=20, random_state=42)\n",
    "algo.fit(trainset)\n",
    "app = FastAPI()\n",
    "games = pd.read_csv('./games_detailed_info.csv', encoding='UTF-8', usecols=[2,5])\n",
    "total_games = games['id'].tolist()\n"
   ]
  },
  {
   "cell_type": "code",
   "execution_count": 4,
   "id": "b689bdf4",
   "metadata": {},
   "outputs": [],
   "source": [
    "def recommend_movie(user_id:str):\n",
    "\n",
    "\n",
    "\n",
    "    # -----------추천 알고리즘------------\n",
    "    top_n = 10\n",
    "    unplayed_games = get_unplayed_surprise(ratings, total_games, user_id)\n",
    "    top_games_preds = recomm_game_by_surprise(algo, user_id, unplayed_games,games, top_n)\n",
    "    return {\"result\": top_games_preds}"
   ]
  },
  {
   "cell_type": "code",
   "execution_count": 5,
   "id": "07ac2607",
   "metadata": {},
   "outputs": [
    {
     "name": "stdout",
     "output_type": "stream",
     "text": [
      "특정Torsten 유저가 플레이한 게임 수: 1460\n",
      " 추천한 게임 개수: 20172\n",
      " 전체 게임수:21631\n",
      "추천게임이름 Gloomhaven: Jaws of the Lion\n",
      "예측평점: 9.93791514045237\n",
      "\n",
      "추천게임이름 Agricola (Revised Edition)\n",
      "예측평점: 9.876973432300186\n",
      "\n",
      "추천게임이름 Dominion (Second Edition)\n",
      "예측평점: 9.748953308105461\n",
      "\n",
      "추천게임이름 Dungeon Universalis\n",
      "예측평점: 9.738194728914962\n",
      "\n",
      "추천게임이름 ISS Vanguard\n",
      "예측평점: 9.706752701517416\n",
      "\n",
      "추천게임이름 1822CA\n",
      "예측평점: 9.697560161330207\n",
      "\n",
      "추천게임이름 S.H.E.O.L.\n",
      "예측평점: 9.572132249422088\n",
      "\n",
      "추천게임이름 Primer: The Gamer's Source for Battles from the Age of Reason\n",
      "예측평점: 9.53368558527791\n",
      "\n",
      "추천게임이름 Panzers Last Stand: Battles for Budapest, 1945\n",
      "예측평점: 9.49832087089408\n",
      "\n",
      "추천게임이름 Global War 1939\n",
      "예측평점: 9.476218804270179\n",
      "\n"
     ]
    },
    {
     "data": {
      "text/plain": [
       "{'result': [(209418, 9.93791514045237, 'Gloomhaven: Jaws of the Lion'),\n",
       "  (292099, 9.876973432300186, 'Agricola (Revised Edition)'),\n",
       "  (113337, 9.748953308105461, 'Dominion (Second Edition)'),\n",
       "  (200680, 9.738194728914962, 'Dungeon Universalis'),\n",
       "  (261393, 9.706752701517416, 'ISS Vanguard'),\n",
       "  (325494, 9.697560161330207, '1822CA'),\n",
       "  (253607, 9.572132249422088, 'S.H.E.O.L.'),\n",
       "  (323046,\n",
       "   9.53368558527791,\n",
       "   \"Primer: The Gamer's Source for Battles from the Age of Reason\"),\n",
       "  (291457, 9.49832087089408, 'Panzers Last Stand: Battles for Budapest, 1945'),\n",
       "  (148213, 9.476218804270179, 'Global War 1939')]}"
      ]
     },
     "execution_count": 5,
     "metadata": {},
     "output_type": "execute_result"
    }
   ],
   "source": [
    "recommend_movie('Torsten')"
   ]
  },
  {
   "cell_type": "code",
   "execution_count": 9,
   "id": "0e4dc0f1",
   "metadata": {},
   "outputs": [],
   "source": [
    "def recommend_combination(ids):\n",
    "    gameset = []\n",
    "    for id in ids:\n",
    "        gameset.append(recomm_combi(algo, id, total_games,games,20 ))\n",
    "\n",
    "    return gameset"
   ]
  },
  {
   "cell_type": "code",
   "execution_count": 10,
   "id": "599742ff",
   "metadata": {},
   "outputs": [
    {
     "data": {
      "text/plain": [
       "[[{'gameId': '264476', 'rating': '9.933291495741576'},\n",
       "  {'gameId': '10783', 'rating': '9.648448038618133'},\n",
       "  {'gameId': '3771', 'rating': '9.542896879079924'},\n",
       "  {'gameId': '147887', 'rating': '9.539523816804147'},\n",
       "  {'gameId': '221248', 'rating': '9.523378711204485'},\n",
       "  {'gameId': '342210', 'rating': '9.493528063189187'},\n",
       "  {'gameId': '1422', 'rating': '9.47651741250575'},\n",
       "  {'gameId': '244939', 'rating': '9.466031190724182'},\n",
       "  {'gameId': '15985', 'rating': '9.462306437719482'},\n",
       "  {'gameId': '557', 'rating': '9.459633729087157'},\n",
       "  {'gameId': '148282', 'rating': '9.440579608262167'},\n",
       "  {'gameId': '1572', 'rating': '9.425464276886537'},\n",
       "  {'gameId': '166764', 'rating': '9.420411401503863'},\n",
       "  {'gameId': '163432', 'rating': '9.415511235127333'},\n",
       "  {'gameId': '3581', 'rating': '9.400164838614833'},\n",
       "  {'gameId': '171620', 'rating': '9.399926737052082'},\n",
       "  {'gameId': '1519', 'rating': '9.399792117458416'},\n",
       "  {'gameId': '165737', 'rating': '9.398429532838028'},\n",
       "  {'gameId': '4852', 'rating': '9.396403714303737'},\n",
       "  {'gameId': '540', 'rating': '9.394535962262738'}],\n",
       " [{'gameId': '264476', 'rating': '9.933291495741576'},\n",
       "  {'gameId': '10783', 'rating': '9.648448038618133'},\n",
       "  {'gameId': '3771', 'rating': '9.542896879079924'},\n",
       "  {'gameId': '147887', 'rating': '9.539523816804147'},\n",
       "  {'gameId': '221248', 'rating': '9.523378711204485'},\n",
       "  {'gameId': '342210', 'rating': '9.493528063189187'},\n",
       "  {'gameId': '1422', 'rating': '9.47651741250575'},\n",
       "  {'gameId': '244939', 'rating': '9.466031190724182'},\n",
       "  {'gameId': '15985', 'rating': '9.462306437719482'},\n",
       "  {'gameId': '557', 'rating': '9.459633729087157'},\n",
       "  {'gameId': '148282', 'rating': '9.440579608262167'},\n",
       "  {'gameId': '1572', 'rating': '9.425464276886537'},\n",
       "  {'gameId': '166764', 'rating': '9.420411401503863'},\n",
       "  {'gameId': '163432', 'rating': '9.415511235127333'},\n",
       "  {'gameId': '3581', 'rating': '9.400164838614833'},\n",
       "  {'gameId': '171620', 'rating': '9.399926737052082'},\n",
       "  {'gameId': '1519', 'rating': '9.399792117458416'},\n",
       "  {'gameId': '165737', 'rating': '9.398429532838028'},\n",
       "  {'gameId': '4852', 'rating': '9.396403714303737'},\n",
       "  {'gameId': '540', 'rating': '9.394535962262738'}]]"
      ]
     },
     "execution_count": 10,
     "metadata": {},
     "output_type": "execute_result"
    }
   ],
   "source": [
    "recommend_combination([\"Krudte\",\"Ecosmith\"])"
   ]
  },
  {
   "cell_type": "code",
   "execution_count": null,
   "id": "36622e91",
   "metadata": {},
   "outputs": [],
   "source": []
  }
 ],
 "metadata": {
  "kernelspec": {
   "display_name": "Python 3 (ipykernel)",
   "language": "python",
   "name": "python3"
  },
  "language_info": {
   "codemirror_mode": {
    "name": "ipython",
    "version": 3
   },
   "file_extension": ".py",
   "mimetype": "text/x-python",
   "name": "python",
   "nbconvert_exporter": "python",
   "pygments_lexer": "ipython3",
   "version": "3.8.2"
  }
 },
 "nbformat": 4,
 "nbformat_minor": 5
}
