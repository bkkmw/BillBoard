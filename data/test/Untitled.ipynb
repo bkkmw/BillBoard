{
 "cells": [
  {
   "cell_type": "code",
   "execution_count": null,
   "id": "898768d5",
   "metadata": {},
   "outputs": [],
   "source": [
    "from typing import List, Union\n",
    "from fastapi import FastAPI, HTTPException\n",
    "from fastapi.middleware.cors import CORSMiddleware\n",
    "from fastapi.encoders import jsonable_encoder\n",
    "from fastapi.responses import JSONResponse\n",
    "\n",
    "from pydantic import BaseModel\n",
    "from starlette.middleware.cors import CORSMiddleware\n",
    "import certifi\n",
    "import pandas as pd\n",
    "from surprise import Reader, Dataset, SVD\n",
    "from runSVD import get_unplayed_surprise, recomm_game_by_surprise"
   ]
  },
  {
   "cell_type": "code",
   "execution_count": null,
   "id": "29831ec5",
   "metadata": {},
   "outputs": [],
   "source": [
    "reader = Reader()\n",
    "ratings = pd.read_csv(\"./bgg-19m-reviews.csv\", encoding='UTF-8')\n",
    "data = Dataset.load_from_df(ratings[[\"user\", \"ID\", \"rating\"]], reader)\n",
    "\n",
    "train_set = data.build_full_trainset()\n",
    "test_set = train_set.build_testset()\n",
    "algo = SVD()\n",
    "algo.fit(train_set)\n",
    "app = FastAPI()\n",
    "games = pd.read_csv('./games_detailed_info.csv', encoding='UTF-8', usecols=[2,5])\n",
    "total_games = games['id'].tolist()"
   ]
  },
  {
   "cell_type": "code",
   "execution_count": null,
   "id": "da8a58b3",
   "metadata": {},
   "outputs": [],
   "source": [
    "def recommend_movie(user_id:str):\n",
    "\n",
    "\n",
    "\n",
    "    # -----------추천 알고리즘------------\n",
    "    top_n = 10\n",
    "    unplayed_games = get_unplayed_surprise(ratings, total_games, user_id)\n",
    "    top_games_preds = recomm_game_by_surprise(algo, user_id, unplayed_games,games, top_n)\n",
    "    return {\"result\": top_games_preds}"
   ]
  },
  {
   "cell_type": "code",
   "execution_count": null,
   "id": "e305ea0d",
   "metadata": {},
   "outputs": [],
   "source": []
  }
 ],
 "metadata": {
  "kernelspec": {
   "display_name": "Python 3 (ipykernel)",
   "language": "python",
   "name": "python3"
  }
 },
 "nbformat": 4,
 "nbformat_minor": 5
}
